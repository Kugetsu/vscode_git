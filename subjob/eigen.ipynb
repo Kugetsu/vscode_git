{
 "cells": [
  {
   "cell_type": "code",
   "execution_count": 21,
   "metadata": {
    "scrolled": true
   },
   "outputs": [
    {
     "name": "stdout",
     "output_type": "stream",
     "text": [
      "[[ 9.29052599e-02  1.25699096e-02  1.84502799e-02 -3.29373574e-05\n",
      "   1.51791070e-05  8.13682794e-05]\n",
      " [ 1.25699096e-02  3.98107361e-02 -1.74563787e-02  1.55441324e-04\n",
      "  -4.96676097e-05 -1.05197650e-04]\n",
      " [ 1.84502799e-02 -1.74563787e-02  5.82556422e-03  8.43488411e-05\n",
      "  -2.77849461e-04  1.20094391e-04]\n",
      " [-3.29373574e-05  1.55441324e-04  8.43488411e-05  6.91962402e-01\n",
      "   9.30641930e-02 -6.63121770e-03]\n",
      " [ 1.51791070e-05 -4.96676097e-05 -2.77849461e-04  9.30641930e-02\n",
      "   1.56777137e-01  7.22668913e-02]\n",
      " [ 8.13682794e-05 -1.05197650e-04  1.20094391e-04 -6.63121770e-03\n",
      "   7.22668913e-02  3.04276293e-01]]\n"
     ]
    }
   ],
   "source": [
    "import os,sys,math,cmath\n",
    "import numpy as np\n",
    "import tkinter as tk\n",
    "import matplotlib.pyplot as plt\n",
    "from tkinter import ttk\n",
    "from tkinter import messagebox as mbox\n",
    "from tkinter import filedialog as fd\n",
    "import pandas as pd\n",
    "\n",
    "base_num=6\n",
    "\n",
    "file_name=\"eigen.xlsx\"\n",
    "\n",
    "df_1=pd.read_excel(file_name, sheet_name='Sheet1')\n",
    "\n",
    "matG=np.array(df_1.iloc[0:base_num,1:1+base_num],dtype=np.complex)\n",
    "\n",
    "print(matG)"
   ]
  },
  {
   "cell_type": "code",
   "execution_count": 23,
   "metadata": {
    "scrolled": true
   },
   "outputs": [
    {
     "name": "stdout",
     "output_type": "stream",
     "text": [
      "固有値は\n",
      "[ 0.70776039  0.3316668  -0.00638587  0.04683252  0.09809365  0.11358989]\n",
      "固有ベクトルは\n",
      "[[-4.10165033e-05 -3.33820080e-04  2.15974654e-01  7.84131830e-02\n",
      "   9.73237997e-01  3.74291395e-03]\n",
      " [ 2.12637655e-04  4.24637699e-04 -3.96011832e-01 -9.04070479e-01\n",
      "   1.60719976e-01  2.47271493e-04]\n",
      " [ 4.78377818e-05 -7.09554093e-05 -8.92481782e-01  4.20125401e-01\n",
      "   1.64191057e-01  3.49377795e-03]\n",
      " [ 9.85635663e-01  7.25921237e-02  5.13801498e-04 -2.97232669e-05\n",
      "  -6.31623846e-04  1.52486263e-01]\n",
      " [ 1.68308612e-01 -3.47648487e-01 -2.25952271e-03  1.29503629e-03\n",
      "   3.83226413e-03 -9.22383473e-01]\n",
      " [ 1.39464123e-02 -9.34810471e-01  6.90926977e-04 -9.54486052e-04\n",
      "  -1.76123467e-03  3.54866722e-01]]\n"
     ]
    }
   ],
   "source": [
    "l,P=np.linalg.eig(matG)\n",
    "\n",
    "print('固有値は')\n",
    "print(l)\n",
    "print('固有ベクトルは')\n",
    "print(P)\n"
   ]
  },
  {
   "cell_type": "code",
   "execution_count": null,
   "metadata": {},
   "outputs": [],
   "source": []
  }
 ],
 "metadata": {
  "kernelspec": {
   "display_name": "Python 3",
   "language": "python",
   "name": "python3"
  },
  "language_info": {
   "codemirror_mode": {
    "name": "ipython",
    "version": 3
   },
   "file_extension": ".py",
   "mimetype": "text/x-python",
   "name": "python",
   "nbconvert_exporter": "python",
   "pygments_lexer": "ipython3",
   "version": "3.6.5"
  }
 },
 "nbformat": 4,
 "nbformat_minor": 2
}
