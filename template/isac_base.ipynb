{
 "cells": [
  {
   "cell_type": "code",
   "execution_count": null,
   "metadata": {},
   "outputs": [],
   "source": [
    "#import library \n",
    "import os,sys,math,cmath\n",
    "import numpy as np\n",
    "import tkinter as tk\n",
    "import matplotlib.pyplot as plt\n",
    "from tkinter import ttk\n",
    "from tkinter import messagebox as mbox\n",
    "from tkinter import filedialog as fd\n",
    "import pandas as pd\n",
    "from mpl_toolkits import mplot3d"
   ]
  },
  {
   "cell_type": "code",
   "execution_count": null,
   "metadata": {},
   "outputs": [],
   "source": [
    "file_name=\"read_fai_07.xlsx\"  #excel file name\n",
    "\n",
    "df_1=pd.read_excel(file_name, sheet_name='c=-1')\n",
    "df_2=pd.read_excel(file_name, sheet_name='c=0')\n",
    "df_3=pd.read_excel(file_name, sheet_name='c=1')\n",
    "df_4=pd.read_excel(file_name, sheet_name='面心c=-1') #table name \n",
    "df_5=pd.read_excel(file_name, sheet_name='面心c=0') # to correspond to different moleculars in a single cell\n",
    "df_6=pd.read_excel(file_name, sheet_name='面心c=1') # the naming needs to be reconsidered\n",
    "df_7=pd.read_excel(file_name, sheet_name='lattice parameters') # \n",
    "df_8=pd.read_excel(file_name, sheet_name='Γ') #\n",
    "df_9=pd.read_excel(file_name, sheet_name='k-path')\n",
    "df_10=pd.read_excel(file_name, sheet_name='SO')\n",
    "df_1=df_1.fillna(0)\n",
    "df_2=df_2.fillna(0)\n",
    "df_3=df_3.fillna(0)\n",
    "df_4=df_4.fillna(0)\n",
    "df_5=df_5.fillna(0)\n",
    "df_6=df_6.fillna(0)\n",
    "df_9=df_9.fillna(0)\n",
    "df_10=df_10.fillna(0)"
   ]
  }
 ],
 "metadata": {
  "kernelspec": {
   "display_name": "Python 3",
   "language": "python",
   "name": "python3"
  },
  "language_info": {
   "codemirror_mode": {
    "name": "ipython",
    "version": 3
   },
   "file_extension": ".py",
   "mimetype": "text/x-python",
   "name": "python",
   "nbconvert_exporter": "python",
   "pygments_lexer": "ipython3",
   "version": "3.11.1"
  },
  "orig_nbformat": 4,
  "vscode": {
   "interpreter": {
    "hash": "aee8b7b246df8f9039afb4144a1f6fd8d2ca17a180786b69acc140d282b71a49"
   }
  }
 },
 "nbformat": 4,
 "nbformat_minor": 2
}
