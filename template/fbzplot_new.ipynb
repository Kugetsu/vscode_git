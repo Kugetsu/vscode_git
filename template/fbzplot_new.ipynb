{
 "cells": [
  {
   "cell_type": "code",
   "execution_count": null,
   "metadata": {},
   "outputs": [],
   "source": [
    "#计算仅针对单纯格子P，单斜m：仅需考虑截面形状  三斜：4种情况进行讨论，出现额外情况再进行讨论  直方/立方：太简单了\n",
    "\n",
    "import os,sys,math,cmath\n",
    "import numpy as np\n",
    "import matplotlib.pyplot as plt\n",
    "import pandas as pd\n",
    "from mpl_toolkits import mplot3d\n",
    "from collections import Counter\n",
    "\n",
    "a = 7.302\n",
    "b = 5.873\n",
    "c = 3.882\n",
    "alpha = 91.13\n",
    "beta = 112.55\n",
    "gamma = 92.43\n",
    "\n",
    "#排序 （表述对应关系）\n",
    "#逆矢量的计算\n",
    "\n",
    "print(\"the reciprocal vector are:\")\n",
    "print(\"b1=\",b1)\n",
    "print(\"b2=\",b2)\n",
    "print(\"b3=\",b3)\n",
    "\n",
    "if alpha == beta == gamma == 90 :\n",
    "    print(\"this is an orthorhombic system\")\n",
    "    \n",
    "\n",
    "\n",
    "\n",
    "elif (alpha == beta == 90) or (alpha == gamma ==90) or (beta == gamma ==90) :\n",
    "    print(\"this is a monoclinic system\")\n",
    "\n",
    "\n",
    "\n",
    "else :\n",
    "    print(\"this is a triclinic system\")\n"
   ]
  }
 ],
 "metadata": {
  "kernelspec": {
   "display_name": "Python 3",
   "language": "python",
   "name": "python3"
  },
  "language_info": {
   "name": "python",
   "version": "3.11.1 (v3.11.1:a7a450f84a, Dec  6 2022, 15:24:06) [Clang 13.0.0 (clang-1300.0.29.30)]"
  },
  "orig_nbformat": 4,
  "vscode": {
   "interpreter": {
    "hash": "aee8b7b246df8f9039afb4144a1f6fd8d2ca17a180786b69acc140d282b71a49"
   }
  }
 },
 "nbformat": 4,
 "nbformat_minor": 2
}
