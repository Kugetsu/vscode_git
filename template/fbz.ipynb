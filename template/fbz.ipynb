{
 "cells": [
  {
   "cell_type": "code",
   "execution_count": 10,
   "metadata": {},
   "outputs": [],
   "source": [
    "import os,sys,math,cmath\n",
    "import numpy as np\n",
    "import matplotlib.pyplot as plt\n",
    "import pandas as pd\n",
    "from mpl_toolkits import mplot3d\n",
    "\n",
    "b1 = np.array([0.860474569594575,0.0365159146990011,0.358997239874682])  #先暂时手动输入，后面可以改为自动读取\n",
    "b2 = np.array([0,1.07080545537165,0.0417868785140344])\n",
    "b3 = np.array([0,0,1.75386677814264])\n",
    "\n",
    "vectors = [b1,b2,b3,-b1,-b2,-b3,b1+b2,b1+b3,b2+b3,b1-b2,b1-b3,b2-b3,b2-b1,b3-b1,b3-b2,-b1-b2,-b1-b3,-b2-b3,b1+b2+b3,b1+b2-b3,b1-b2+b3,-b1+b2+b3,b1-b2-b3,-b1+b2-b3,-b1-b2+b3,-b1-b2-b3]\n"
   ]
  },
  {
   "cell_type": "code",
   "execution_count": null,
   "metadata": {},
   "outputs": [],
   "source": [
    "\n",
    "\n",
    "result={}\n",
    "\n",
    "for i in range(len(vectors)):\n",
    "    result[i]={}\n",
    "    for j in range(i+1,len(vectors)):\n",
    "        cross=np.cross(vectors[i],vectors[j])\n",
    "        if np.linalg.norm(cross) != 0:\n",
    "            n3=0\n",
    "            for k in range(len(vectors)):\n",
    "                rank=np.vstack((vectors[i],vectors[j],vectors[k])).T\n",
    "                if np.linalg.matrix_rank(rank) == 3:\n",
    "                    left=np.array([vectors[i],vectors[j],vectors[k]])\n",
    "                    right=np.array([0.5*np.dot(vectors[i],vectors[i]),0.5*np.dot(vectors[j],vectors[j]),0.5*np.dot(vectors[k],vectors[k])])\n",
    "                    X=np.linalg.solve(left,right)\n",
    "                    result[i][j] = result[i].get(j, {})\n",
    "                    result[i][j][n3]=X\n",
    "                    n3=n3+1\n",
    "                       \n",
    "\n",
    "print(result[0][1])\n"
   ]
  },
  {
   "cell_type": "code",
   "execution_count": null,
   "metadata": {},
   "outputs": [],
   "source": [
    "#def sort_result_by_x(d):\n",
    "#    return sorted(d.items(), key=lambda x: x[1][0])\n",
    "\n",
    "result={}\n",
    "result_center={}\n",
    "X={}\n",
    "#X=[[0]*3 for i in range(len(vectors))]\n",
    "for i in range(len(vectors)):\n",
    "    result[i]={}\n",
    "    result_center[i]={}\n",
    "    for j in range(i+1,len(vectors)):\n",
    "        cross=np.cross(vectors[i],vectors[j])\n",
    "        if np.linalg.norm(cross) != 0:\n",
    "            n3=0\n",
    "            for k in range(len(vectors)):\n",
    "                rank=np.vstack((vectors[i],vectors[j],vectors[k])).T\n",
    "                if np.linalg.matrix_rank(rank) == 3:\n",
    "                    left=np.array([vectors[i],vectors[j],vectors[k]])\n",
    "                    right=np.array([0.5*np.dot(vectors[i],vectors[i]),0.5*np.dot(vectors[j],vectors[j]),0.5*np.dot(vectors[k],vectors[k])])\n",
    "                    solve=np.linalg.solve(left,right)\n",
    "                    X[n3]=np.linalg.solve(left,right)\n",
    "                    n3=n3+1\n",
    "            #list_x=X.values()\n",
    "            #sort=sort_result_by_x(X)\n",
    "            x_values=[val for val in X.values()]\n",
    "            sort=sorted(x_values, key=lambda v:v[0])\n",
    "            midpoint=len(sort)//2-1\n",
    "            result[i][j]=sort\n",
    "            result_center[i][j]=sort[midpoint:midpoint+2]\n",
    "            if i==0 and j==1:\n",
    "                print(solve) \n",
    "                    \n",
    "                       \n",
    "print(result[0][1][0])\n",
    "print(result[0][1])\n",
    "print(result_center[0][1])\n",
    "\n",
    "#result 储存了所有的坐标值  result_center 取中心两点\n"
   ]
  },
  {
   "cell_type": "code",
   "execution_count": null,
   "metadata": {},
   "outputs": [],
   "source": [
    "print(result_center[0][1][0][1])"
   ]
  },
  {
   "cell_type": "code",
   "execution_count": null,
   "metadata": {},
   "outputs": [],
   "source": [
    "from mpl_toolkits.mplot3d import Axes3D\n",
    "\n",
    "\n",
    "%matplotlib widget\n",
    "\n",
    "fig = plt.figure()\n",
    "ax = plt.axes(projection='3d')\n",
    "\n",
    "for i in range(len(vectors)):\n",
    "    for j in range(i+1,len(vectors)):\n",
    "        cross=np.cross(vectors[i],vectors[j])\n",
    "        if np.linalg.norm(cross) != 0:\n",
    "            x=[result_center[i][j][0][0],result_center[i][j][1][0]]\n",
    "            y=[result_center[i][j][0][1],result_center[i][j][1][1]]\n",
    "            z=[result_center[i][j][0][2],result_center[i][j][1][2]]\n",
    "            ax.scatter(x,y,z)\n",
    "            ax.plot([result_center[i][j][0][0],result_center[i][j][1][0]],[result_center[i][j][0][1],result_center[i][j][1][1]],[result_center[i][j][0][2],result_center[i][j][1][2]],color='black')\n",
    "\n",
    "ax.set_xlabel('X')\n",
    "ax.set_ylabel('Y')\n",
    "ax.set_zlabel('Z')\n",
    "\n",
    "plt.show()"
   ]
  }
 ],
 "metadata": {
  "kernelspec": {
   "display_name": "Python 3",
   "language": "python",
   "name": "python3"
  },
  "language_info": {
   "codemirror_mode": {
    "name": "ipython",
    "version": 3
   },
   "file_extension": ".py",
   "mimetype": "text/x-python",
   "name": "python",
   "nbconvert_exporter": "python",
   "pygments_lexer": "ipython3",
   "version": "3.11.1"
  },
  "orig_nbformat": 4,
  "vscode": {
   "interpreter": {
    "hash": "aee8b7b246df8f9039afb4144a1f6fd8d2ca17a180786b69acc140d282b71a49"
   }
  }
 },
 "nbformat": 4,
 "nbformat_minor": 2
}
