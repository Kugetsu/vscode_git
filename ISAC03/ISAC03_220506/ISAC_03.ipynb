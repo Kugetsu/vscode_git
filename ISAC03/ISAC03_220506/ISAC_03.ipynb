{
 "cells": [
  {
   "cell_type": "code",
   "execution_count": null,
   "metadata": {},
   "outputs": [],
   "source": [
    "import os,sys,math,cmath\n",
    "import numpy as np\n",
    "import tkinter as tk\n",
    "import matplotlib.pyplot as plt\n",
    "from mpl_toolkits import mplot3d \n",
    "from tkinter import ttk\n",
    "from tkinter import messagebox as mbox\n",
    "from tkinter import filedialog as fd\n",
    "import pandas as pd\n",
    "\n",
    "base_num=6\n",
    "matD=np.empty((base_num,base_num),dtype=complex)\n",
    "pi=np.pi \n",
    "i_num=1j \n",
    "\n",
    "kpoint_num=12 \n",
    "route_num=3 \n",
    "kpr1=9 \n",
    "kpr2=3\n",
    "kpr3=2\n",
    "kpr4=0\n",
    "kpr=np.array([kpr1,kpr2,kpr3,kpr4])\n",
    "k_num=10\n",
    "\n",
    "file_name=\"read03.xlsx\"\n",
    "\n",
    "df_1=pd.read_excel(file_name, sheet_name='phi_1')  #调整输入表格，避免重复输入\n",
    "df_2=pd.read_excel(file_name, sheet_name='phi_2')\n",
    "df_5=pd.read_excel(file_name, sheet_name='gamma')\n",
    "df_6=pd.read_excel(file_name, sheet_name='k-path')\n",
    "df_1=df_1.fillna(0)\n",
    "df_2=df_2.fillna(0)\n",
    "df_5=df_5.fillna(0)\n",
    "df_6=df_6.fillna(0)"
   ]
  }
 ],
 "metadata": {
  "kernelspec": {
   "display_name": "Python 3",
   "language": "python",
   "name": "python3"
  },
  "language_info": {
   "name": "python",
   "version": "3.10.1"
  },
  "orig_nbformat": 4
 },
 "nbformat": 4,
 "nbformat_minor": 2
}
